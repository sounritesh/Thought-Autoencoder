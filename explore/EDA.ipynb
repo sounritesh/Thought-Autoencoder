{
 "cells": [
  {
   "cell_type": "code",
   "execution_count": 67,
   "metadata": {},
   "outputs": [],
   "source": [
    "import pandas as pd\n",
    "import numpy as np\n",
    "import matplotlib.pyplot as plt\n",
    "import seaborn as sns\n",
    "%matplotlib inline\n",
    "import warnings\n",
    "\n",
    "warnings.simplefilter(\"ignore\")"
   ]
  },
  {
   "cell_type": "code",
   "execution_count": 68,
   "metadata": {},
   "outputs": [
    {
     "name": "stderr",
     "output_type": "stream",
     "text": [
      "b'Skipping line 1943: expected 16 fields, saw 17\\nSkipping line 1944: expected 16 fields, saw 17\\nSkipping line 2001: expected 16 fields, saw 17\\nSkipping line 2003: expected 16 fields, saw 17\\nSkipping line 2040: expected 16 fields, saw 17\\nSkipping line 14573: expected 16 fields, saw 17\\nSkipping line 17079: expected 16 fields, saw 27\\nSkipping line 19909: expected 16 fields, saw 24\\nSkipping line 20893: expected 16 fields, saw 33\\nSkipping line 21694: expected 16 fields, saw 23\\nSkipping line 22753: expected 16 fields, saw 20\\nSkipping line 31116: expected 16 fields, saw 17\\nSkipping line 31129: expected 16 fields, saw 17\\nSkipping line 31130: expected 16 fields, saw 17\\nSkipping line 31131: expected 16 fields, saw 17\\nSkipping line 31203: expected 16 fields, saw 17\\nSkipping line 31319: expected 16 fields, saw 17\\nSkipping line 31405: expected 16 fields, saw 17\\n'\n",
      "b'Skipping line 34494: expected 16 fields, saw 17\\nSkipping line 35799: expected 16 fields, saw 17\\nSkipping line 35854: expected 16 fields, saw 17\\nSkipping line 36062: expected 16 fields, saw 17\\nSkipping line 36069: expected 16 fields, saw 23\\nSkipping line 37668: expected 16 fields, saw 17\\nSkipping line 37867: expected 16 fields, saw 17\\nSkipping line 38261: expected 16 fields, saw 20\\nSkipping line 47095: expected 16 fields, saw 21\\nSkipping line 48493: expected 16 fields, saw 18\\nSkipping line 62257: expected 16 fields, saw 17\\n'\n",
      "b'Skipping line 115540: expected 16 fields, saw 17\\n'\n",
      "b'Skipping line 140029: expected 16 fields, saw 24\\n'\n",
      "b'Skipping line 182089: expected 16 fields, saw 18\\n'\n",
      "b'Skipping line 219051: expected 16 fields, saw 17\\nSkipping line 219052: expected 16 fields, saw 17\\nSkipping line 219432: expected 16 fields, saw 17\\nSkipping line 219453: expected 16 fields, saw 17\\nSkipping line 219615: expected 16 fields, saw 17\\n'\n",
      "b'Skipping line 272057: expected 16 fields, saw 28\\nSkipping line 274679: expected 16 fields, saw 17\\n'\n",
      "b'Skipping line 301899: expected 16 fields, saw 18\\nSkipping line 313483: expected 16 fields, saw 21\\nSkipping line 314653: expected 16 fields, saw 17\\nSkipping line 315972: expected 16 fields, saw 17\\n'\n",
      "b'Skipping line 330607: expected 16 fields, saw 17\\nSkipping line 350172: expected 16 fields, saw 20\\n'\n",
      "b'Skipping line 366620: expected 16 fields, saw 20\\n'\n",
      "b'Skipping line 412917: expected 16 fields, saw 17\\n'\n",
      "b'Skipping line 428572: expected 16 fields, saw 17\\nSkipping line 458343: expected 16 fields, saw 17\\n'\n",
      "b'Skipping line 535898: expected 16 fields, saw 18\\n'\n"
     ]
    }
   ],
   "source": [
    "df = pd.read_csv(\"../presample_thoughts.tsv\", delimiter = \"\\t\", error_bad_lines=False)"
   ]
  },
  {
   "cell_type": "code",
   "execution_count": 69,
   "metadata": {},
   "outputs": [
    {
     "data": {
      "text/html": [
       "<div>\n",
       "<style scoped>\n",
       "    .dataframe tbody tr th:only-of-type {\n",
       "        vertical-align: middle;\n",
       "    }\n",
       "\n",
       "    .dataframe tbody tr th {\n",
       "        vertical-align: top;\n",
       "    }\n",
       "\n",
       "    .dataframe thead th {\n",
       "        text-align: right;\n",
       "    }\n",
       "</style>\n",
       "<table border=\"1\" class=\"dataframe\">\n",
       "  <thead>\n",
       "    <tr style=\"text-align: right;\">\n",
       "      <th></th>\n",
       "      <th>id</th>\n",
       "      <th>is_top_level</th>\n",
       "      <th>text</th>\n",
       "      <th>tag</th>\n",
       "      <th>is_thought_blocked</th>\n",
       "      <th>is_anon</th>\n",
       "      <th>has_trigger_warning</th>\n",
       "      <th>has_profile_pic</th>\n",
       "      <th>has_cover_image</th>\n",
       "      <th>has_pronouns</th>\n",
       "      <th>is_banned</th>\n",
       "      <th>has_google</th>\n",
       "      <th>has_phone</th>\n",
       "      <th>has_apple</th>\n",
       "      <th>bio</th>\n",
       "      <th>has_location</th>\n",
       "    </tr>\n",
       "  </thead>\n",
       "  <tbody>\n",
       "    <tr>\n",
       "      <th>0</th>\n",
       "      <td>5e8b3ddf492d791d4894c1bd</td>\n",
       "      <td>1</td>\n",
       "      <td>I have chronic seasonal allergies, which means...</td>\n",
       "      <td>physical-health</td>\n",
       "      <td>0.0</td>\n",
       "      <td>0.0</td>\n",
       "      <td>0.0</td>\n",
       "      <td>1.0</td>\n",
       "      <td>1.0</td>\n",
       "      <td>1.0</td>\n",
       "      <td>0.0</td>\n",
       "      <td>1.0</td>\n",
       "      <td>1</td>\n",
       "      <td>0.0</td>\n",
       "      <td>here for the vibes 🛼✨þ&amp; as a nowandme user🕺🏻</td>\n",
       "      <td>0.0</td>\n",
       "    </tr>\n",
       "    <tr>\n",
       "      <th>1</th>\n",
       "      <td>5e8b3ddf492d791d4894c1bf</td>\n",
       "      <td>1</td>\n",
       "      <td>I was scared of dogs for most part of my life....</td>\n",
       "      <td>women-empowerment</td>\n",
       "      <td>1.0</td>\n",
       "      <td>0.0</td>\n",
       "      <td>0.0</td>\n",
       "      <td>1.0</td>\n",
       "      <td>1.0</td>\n",
       "      <td>1.0</td>\n",
       "      <td>0.0</td>\n",
       "      <td>1.0</td>\n",
       "      <td>1</td>\n",
       "      <td>0.0</td>\n",
       "      <td>here for the vibes 🛼✨þ&amp; as a nowandme user🕺🏻</td>\n",
       "      <td>0.0</td>\n",
       "    </tr>\n",
       "    <tr>\n",
       "      <th>2</th>\n",
       "      <td>5e8b3ddf492d791d4894c1c1</td>\n",
       "      <td>1</td>\n",
       "      <td>I have always been a very sensitive person so ...</td>\n",
       "      <td>relationships</td>\n",
       "      <td>0.0</td>\n",
       "      <td>0.0</td>\n",
       "      <td>0.0</td>\n",
       "      <td>1.0</td>\n",
       "      <td>1.0</td>\n",
       "      <td>1.0</td>\n",
       "      <td>0.0</td>\n",
       "      <td>1.0</td>\n",
       "      <td>1</td>\n",
       "      <td>0.0</td>\n",
       "      <td>here for the vibes 🛼✨þ&amp; as a nowandme user🕺🏻</td>\n",
       "      <td>0.0</td>\n",
       "    </tr>\n",
       "    <tr>\n",
       "      <th>3</th>\n",
       "      <td>5e8b3ddf492d791d4894c1c3</td>\n",
       "      <td>1</td>\n",
       "      <td>I’m 20 years old and thus far, my personal lif...</td>\n",
       "      <td>other</td>\n",
       "      <td>0.0</td>\n",
       "      <td>0.0</td>\n",
       "      <td>0.0</td>\n",
       "      <td>1.0</td>\n",
       "      <td>1.0</td>\n",
       "      <td>1.0</td>\n",
       "      <td>0.0</td>\n",
       "      <td>1.0</td>\n",
       "      <td>1</td>\n",
       "      <td>0.0</td>\n",
       "      <td>here for the vibes 🛼✨þ&amp; as a nowandme user🕺🏻</td>\n",
       "      <td>0.0</td>\n",
       "    </tr>\n",
       "    <tr>\n",
       "      <th>4</th>\n",
       "      <td>5e8b3ddf492d791d4894c1c5</td>\n",
       "      <td>1</td>\n",
       "      <td>Some of our professors fail to understand the ...</td>\n",
       "      <td>education</td>\n",
       "      <td>0.0</td>\n",
       "      <td>1.0</td>\n",
       "      <td>0.0</td>\n",
       "      <td>1.0</td>\n",
       "      <td>1.0</td>\n",
       "      <td>1.0</td>\n",
       "      <td>0.0</td>\n",
       "      <td>1.0</td>\n",
       "      <td>1</td>\n",
       "      <td>0.0</td>\n",
       "      <td>here for the vibes 🛼✨þ&amp; as a nowandme user🕺🏻</td>\n",
       "      <td>0.0</td>\n",
       "    </tr>\n",
       "    <tr>\n",
       "      <th>...</th>\n",
       "      <td>...</td>\n",
       "      <td>...</td>\n",
       "      <td>...</td>\n",
       "      <td>...</td>\n",
       "      <td>...</td>\n",
       "      <td>...</td>\n",
       "      <td>...</td>\n",
       "      <td>...</td>\n",
       "      <td>...</td>\n",
       "      <td>...</td>\n",
       "      <td>...</td>\n",
       "      <td>...</td>\n",
       "      <td>...</td>\n",
       "      <td>...</td>\n",
       "      <td>...</td>\n",
       "      <td>...</td>\n",
       "    </tr>\n",
       "    <tr>\n",
       "      <th>546336</th>\n",
       "      <td>621aa2b2af7766001d2efc9a</td>\n",
       "      <td>0</td>\n",
       "      <td>Love is something that stays with you. A part ...</td>\n",
       "      <td>breakup</td>\n",
       "      <td>0.0</td>\n",
       "      <td>1.0</td>\n",
       "      <td>0.0</td>\n",
       "      <td>0.0</td>\n",
       "      <td>0.0</td>\n",
       "      <td>0.0</td>\n",
       "      <td>0.0</td>\n",
       "      <td>1.0</td>\n",
       "      <td>0</td>\n",
       "      <td>1.0</td>\n",
       "      <td>0</td>\n",
       "      <td>0.0</td>\n",
       "    </tr>\n",
       "    <tr>\n",
       "      <th>546337</th>\n",
       "      <td>621aa305624bb6001c87439f</td>\n",
       "      <td>0</td>\n",
       "      <td>I’m there you if want to talk :)</td>\n",
       "      <td>lonely</td>\n",
       "      <td>0.0</td>\n",
       "      <td>1.0</td>\n",
       "      <td>0.0</td>\n",
       "      <td>0.0</td>\n",
       "      <td>0.0</td>\n",
       "      <td>0.0</td>\n",
       "      <td>0.0</td>\n",
       "      <td>1.0</td>\n",
       "      <td>0</td>\n",
       "      <td>1.0</td>\n",
       "      <td>0</td>\n",
       "      <td>0.0</td>\n",
       "    </tr>\n",
       "    <tr>\n",
       "      <th>546338</th>\n",
       "      <td>621aa31956f131001db69f3a</td>\n",
       "      <td>0</td>\n",
       "      <td>Awww. I would like that...</td>\n",
       "      <td>lonely</td>\n",
       "      <td>0.0</td>\n",
       "      <td>0.0</td>\n",
       "      <td>0.0</td>\n",
       "      <td>1.0</td>\n",
       "      <td>1.0</td>\n",
       "      <td>1.0</td>\n",
       "      <td>0.0</td>\n",
       "      <td>1.0</td>\n",
       "      <td>0</td>\n",
       "      <td>0.0</td>\n",
       "      <td>I love people, and I do have separation anxiet...</td>\n",
       "      <td>1.0</td>\n",
       "    </tr>\n",
       "    <tr>\n",
       "      <th>546339</th>\n",
       "      <td>621aa33a56f131001db6a07a</td>\n",
       "      <td>0</td>\n",
       "      <td>Interested in Intraday, F&amp;O ??</td>\n",
       "      <td>success</td>\n",
       "      <td>0.0</td>\n",
       "      <td>0.0</td>\n",
       "      <td>0.0</td>\n",
       "      <td>1.0</td>\n",
       "      <td>1.0</td>\n",
       "      <td>1.0</td>\n",
       "      <td>0.0</td>\n",
       "      <td>0.0</td>\n",
       "      <td>1</td>\n",
       "      <td>0.0</td>\n",
       "      <td>Entrepreneur</td>\n",
       "      <td>0.0</td>\n",
       "    </tr>\n",
       "    <tr>\n",
       "      <th>546340</th>\n",
       "      <td>621aa384af7766001d2f0418</td>\n",
       "      <td>0</td>\n",
       "      <td>Can talk to you in private if you want :)</td>\n",
       "      <td>anxiety</td>\n",
       "      <td>0.0</td>\n",
       "      <td>0.0</td>\n",
       "      <td>0.0</td>\n",
       "      <td>0.0</td>\n",
       "      <td>0.0</td>\n",
       "      <td>0.0</td>\n",
       "      <td>0.0</td>\n",
       "      <td>1.0</td>\n",
       "      <td>0</td>\n",
       "      <td>1.0</td>\n",
       "      <td>0</td>\n",
       "      <td>0.0</td>\n",
       "    </tr>\n",
       "  </tbody>\n",
       "</table>\n",
       "<p>546341 rows × 16 columns</p>\n",
       "</div>"
      ],
      "text/plain": [
       "                              id is_top_level  \\\n",
       "0       5e8b3ddf492d791d4894c1bd            1   \n",
       "1       5e8b3ddf492d791d4894c1bf            1   \n",
       "2       5e8b3ddf492d791d4894c1c1            1   \n",
       "3       5e8b3ddf492d791d4894c1c3            1   \n",
       "4       5e8b3ddf492d791d4894c1c5            1   \n",
       "...                          ...          ...   \n",
       "546336  621aa2b2af7766001d2efc9a            0   \n",
       "546337  621aa305624bb6001c87439f            0   \n",
       "546338  621aa31956f131001db69f3a            0   \n",
       "546339  621aa33a56f131001db6a07a            0   \n",
       "546340  621aa384af7766001d2f0418            0   \n",
       "\n",
       "                                                     text                tag  \\\n",
       "0       I have chronic seasonal allergies, which means...    physical-health   \n",
       "1       I was scared of dogs for most part of my life....  women-empowerment   \n",
       "2       I have always been a very sensitive person so ...      relationships   \n",
       "3       I’m 20 years old and thus far, my personal lif...              other   \n",
       "4       Some of our professors fail to understand the ...          education   \n",
       "...                                                   ...                ...   \n",
       "546336  Love is something that stays with you. A part ...            breakup   \n",
       "546337                   I’m there you if want to talk :)             lonely   \n",
       "546338                         Awww. I would like that...             lonely   \n",
       "546339                     Interested in Intraday, F&O ??            success   \n",
       "546340          Can talk to you in private if you want :)            anxiety   \n",
       "\n",
       "        is_thought_blocked  is_anon  has_trigger_warning  has_profile_pic  \\\n",
       "0                      0.0      0.0                  0.0              1.0   \n",
       "1                      1.0      0.0                  0.0              1.0   \n",
       "2                      0.0      0.0                  0.0              1.0   \n",
       "3                      0.0      0.0                  0.0              1.0   \n",
       "4                      0.0      1.0                  0.0              1.0   \n",
       "...                    ...      ...                  ...              ...   \n",
       "546336                 0.0      1.0                  0.0              0.0   \n",
       "546337                 0.0      1.0                  0.0              0.0   \n",
       "546338                 0.0      0.0                  0.0              1.0   \n",
       "546339                 0.0      0.0                  0.0              1.0   \n",
       "546340                 0.0      0.0                  0.0              0.0   \n",
       "\n",
       "        has_cover_image  has_pronouns  is_banned  has_google has_phone  \\\n",
       "0                   1.0           1.0        0.0         1.0         1   \n",
       "1                   1.0           1.0        0.0         1.0         1   \n",
       "2                   1.0           1.0        0.0         1.0         1   \n",
       "3                   1.0           1.0        0.0         1.0         1   \n",
       "4                   1.0           1.0        0.0         1.0         1   \n",
       "...                 ...           ...        ...         ...       ...   \n",
       "546336              0.0           0.0        0.0         1.0         0   \n",
       "546337              0.0           0.0        0.0         1.0         0   \n",
       "546338              1.0           1.0        0.0         1.0         0   \n",
       "546339              1.0           1.0        0.0         0.0         1   \n",
       "546340              0.0           0.0        0.0         1.0         0   \n",
       "\n",
       "        has_apple                                                bio  \\\n",
       "0             0.0       here for the vibes 🛼✨þ& as a nowandme user🕺🏻   \n",
       "1             0.0       here for the vibes 🛼✨þ& as a nowandme user🕺🏻   \n",
       "2             0.0       here for the vibes 🛼✨þ& as a nowandme user🕺🏻   \n",
       "3             0.0       here for the vibes 🛼✨þ& as a nowandme user🕺🏻   \n",
       "4             0.0       here for the vibes 🛼✨þ& as a nowandme user🕺🏻   \n",
       "...           ...                                                ...   \n",
       "546336        1.0                                                  0   \n",
       "546337        1.0                                                  0   \n",
       "546338        0.0  I love people, and I do have separation anxiet...   \n",
       "546339        0.0                                       Entrepreneur   \n",
       "546340        1.0                                                  0   \n",
       "\n",
       "        has_location  \n",
       "0                0.0  \n",
       "1                0.0  \n",
       "2                0.0  \n",
       "3                0.0  \n",
       "4                0.0  \n",
       "...              ...  \n",
       "546336           0.0  \n",
       "546337           0.0  \n",
       "546338           1.0  \n",
       "546339           0.0  \n",
       "546340           0.0  \n",
       "\n",
       "[546341 rows x 16 columns]"
      ]
     },
     "execution_count": 69,
     "metadata": {},
     "output_type": "execute_result"
    }
   ],
   "source": [
    "df "
   ]
  },
  {
   "cell_type": "code",
   "execution_count": 70,
   "metadata": {},
   "outputs": [
    {
     "data": {
      "text/plain": [
       "Index(['id', 'is_top_level', 'text', 'tag', 'is_thought_blocked', 'is_anon',\n",
       "       'has_trigger_warning', 'has_profile_pic', 'has_cover_image',\n",
       "       'has_pronouns', 'is_banned', 'has_google', 'has_phone', 'has_apple',\n",
       "       'bio', 'has_location'],\n",
       "      dtype='object')"
      ]
     },
     "execution_count": 70,
     "metadata": {},
     "output_type": "execute_result"
    }
   ],
   "source": [
    "df.columns"
   ]
  },
  {
   "cell_type": "code",
   "execution_count": 71,
   "metadata": {},
   "outputs": [],
   "source": [
    "df = df[(df[\"is_top_level\"]==0) | (df[\"is_top_level\"]==1) | (df[\"is_top_level\"]=='0') | (df[\"is_top_level\"]=='1')]"
   ]
  },
  {
   "cell_type": "code",
   "execution_count": 72,
   "metadata": {},
   "outputs": [
    {
     "data": {
      "text/plain": [
       "546313"
      ]
     },
     "execution_count": 72,
     "metadata": {},
     "output_type": "execute_result"
    }
   ],
   "source": [
    "len(df)"
   ]
  },
  {
   "cell_type": "code",
   "execution_count": 73,
   "metadata": {},
   "outputs": [
    {
     "data": {
      "text/plain": [
       "id                     0\n",
       "is_top_level           0\n",
       "text                   0\n",
       "tag                    4\n",
       "is_thought_blocked     6\n",
       "is_anon                6\n",
       "has_trigger_warning    6\n",
       "has_profile_pic        6\n",
       "has_cover_image        6\n",
       "has_pronouns           6\n",
       "is_banned              6\n",
       "has_google             6\n",
       "has_phone              6\n",
       "has_apple              6\n",
       "bio                    6\n",
       "has_location           6\n",
       "dtype: int64"
      ]
     },
     "execution_count": 73,
     "metadata": {},
     "output_type": "execute_result"
    }
   ],
   "source": [
    "df.isna().sum()"
   ]
  },
  {
   "cell_type": "code",
   "execution_count": 74,
   "metadata": {},
   "outputs": [],
   "source": [
    "df.dropna(inplace=True)"
   ]
  },
  {
   "cell_type": "code",
   "execution_count": 75,
   "metadata": {},
   "outputs": [
    {
     "data": {
      "text/plain": [
       "546307"
      ]
     },
     "execution_count": 75,
     "metadata": {},
     "output_type": "execute_result"
    }
   ],
   "source": [
    "len(df)"
   ]
  },
  {
   "cell_type": "code",
   "execution_count": 76,
   "metadata": {},
   "outputs": [],
   "source": [
    "# type defs\n",
    "df.is_top_level = df.is_top_level.astype(int)\n",
    "df.is_thought_blocked = df.is_thought_blocked.astype(int)\n",
    "df.is_anon = df.is_anon.astype(int)\n",
    "df.has_trigger_warning = df.has_trigger_warning.astype(int)\n",
    "df.has_profile_pic = df.has_profile_pic.astype(int)\n",
    "df.has_cover_image = df.has_cover_image.astype(int)\n",
    "df.has_pronouns = df.has_pronouns.astype(int)\n",
    "df.is_banned = df.is_banned.astype(int)\n",
    "df.has_phone = df.has_phone.astype(int)\n",
    "df.has_google = df.has_google.astype(int)\n",
    "df.has_apple = df.has_apple.astype(int)\n",
    "df.has_location = df.has_location.astype(int)"
   ]
  },
  {
   "cell_type": "code",
   "execution_count": 77,
   "metadata": {},
   "outputs": [
    {
     "data": {
      "text/plain": [
       "163"
      ]
     },
     "execution_count": 77,
     "metadata": {},
     "output_type": "execute_result"
    }
   ],
   "source": [
    "len(df.tag.unique())"
   ]
  },
  {
   "cell_type": "code",
   "execution_count": 78,
   "metadata": {},
   "outputs": [
    {
     "data": {
      "text/plain": [
       "0    539857\n",
       "1      6450\n",
       "Name: is_thought_blocked, dtype: int64"
      ]
     },
     "execution_count": 78,
     "metadata": {},
     "output_type": "execute_result"
    }
   ],
   "source": [
    "df.is_thought_blocked.value_counts()"
   ]
  },
  {
   "cell_type": "code",
   "execution_count": 79,
   "metadata": {},
   "outputs": [
    {
     "data": {
      "image/png": "[encoded data removed]",
      "text/plain": [
       "<Figure size 1152x720 with 2 Axes>"
      ]
     },
     "metadata": {
      "needs_background": "light"
     },
     "output_type": "display_data"
    }
   ],
   "source": [
    "plt.figure(figsize=(16, 10))\n",
    "sns.heatmap(df.corr(), annot=True)\n",
    "plt.show()"
   ]
  },
  {
   "cell_type": "code",
   "execution_count": 80,
   "metadata": {},
   "outputs": [
    {
     "data": {
      "text/plain": [
       "1.1806548332714022"
      ]
     },
     "execution_count": 80,
     "metadata": {},
     "output_type": "execute_result"
    }
   ],
   "source": [
    "(df.is_thought_blocked.value_counts()[1.0]/len(df))*100\n",
    "## Extreme bias"
   ]
  },
  {
   "cell_type": "code",
   "execution_count": 81,
   "metadata": {},
   "outputs": [
    {
     "data": {
      "text/plain": [
       "546307"
      ]
     },
     "execution_count": 81,
     "metadata": {},
     "output_type": "execute_result"
    }
   ],
   "source": [
    "len(df)"
   ]
  },
  {
   "cell_type": "code",
   "execution_count": 82,
   "metadata": {},
   "outputs": [
    {
     "data": {
      "image/png": "[encoded data removed]",
      "text/plain": [
       "<Figure size 432x288 with 1 Axes>"
      ]
     },
     "metadata": {
      "needs_background": "light"
     },
     "output_type": "display_data"
    }
   ],
   "source": [
    "sns.countplot(df.is_thought_blocked)\n",
    "plt.show()"
   ]
  },
  {
   "cell_type": "code",
   "execution_count": 85,
   "metadata": {},
   "outputs": [
    {
     "data": {
      "image/png": "[encoded data removed]",
      "text/plain": [
       "<Figure size 432x288 with 1 Axes>"
      ]
     },
     "metadata": {
      "needs_background": "light"
     },
     "output_type": "display_data"
    }
   ],
   "source": [
    "sns.countplot(df.is_banned)\n",
    "plt.show()"
   ]
  },
  {
   "cell_type": "code",
   "execution_count": 83,
   "metadata": {},
   "outputs": [
    {
     "data": {
      "text/html": [
       "<div>\n",
       "<style scoped>\n",
       "    .dataframe tbody tr th:only-of-type {\n",
       "        vertical-align: middle;\n",
       "    }\n",
       "\n",
       "    .dataframe tbody tr th {\n",
       "        vertical-align: top;\n",
       "    }\n",
       "\n",
       "    .dataframe thead th {\n",
       "        text-align: right;\n",
       "    }\n",
       "</style>\n",
       "<table border=\"1\" class=\"dataframe\">\n",
       "  <thead>\n",
       "    <tr style=\"text-align: right;\">\n",
       "      <th></th>\n",
       "      <th>id</th>\n",
       "      <th>is_top_level</th>\n",
       "      <th>text</th>\n",
       "      <th>tag</th>\n",
       "      <th>is_thought_blocked</th>\n",
       "      <th>is_anon</th>\n",
       "      <th>has_trigger_warning</th>\n",
       "      <th>has_profile_pic</th>\n",
       "      <th>has_cover_image</th>\n",
       "      <th>has_pronouns</th>\n",
       "      <th>is_banned</th>\n",
       "      <th>has_google</th>\n",
       "      <th>has_phone</th>\n",
       "      <th>has_apple</th>\n",
       "      <th>bio</th>\n",
       "      <th>has_location</th>\n",
       "    </tr>\n",
       "  </thead>\n",
       "  <tbody>\n",
       "    <tr>\n",
       "      <th>0</th>\n",
       "      <td>5e8b3ddf492d791d4894c1bd</td>\n",
       "      <td>1</td>\n",
       "      <td>I have chronic seasonal allergies, which means...</td>\n",
       "      <td>physical-health</td>\n",
       "      <td>0</td>\n",
       "      <td>0</td>\n",
       "      <td>0</td>\n",
       "      <td>1</td>\n",
       "      <td>1</td>\n",
       "      <td>1</td>\n",
       "      <td>0</td>\n",
       "      <td>1</td>\n",
       "      <td>1</td>\n",
       "      <td>0</td>\n",
       "      <td>here for the vibes 🛼✨þ&amp; as a nowandme user🕺🏻</td>\n",
       "      <td>0</td>\n",
       "    </tr>\n",
       "    <tr>\n",
       "      <th>1</th>\n",
       "      <td>5e8b3ddf492d791d4894c1bf</td>\n",
       "      <td>1</td>\n",
       "      <td>I was scared of dogs for most part of my life....</td>\n",
       "      <td>women-empowerment</td>\n",
       "      <td>1</td>\n",
       "      <td>0</td>\n",
       "      <td>0</td>\n",
       "      <td>1</td>\n",
       "      <td>1</td>\n",
       "      <td>1</td>\n",
       "      <td>0</td>\n",
       "      <td>1</td>\n",
       "      <td>1</td>\n",
       "      <td>0</td>\n",
       "      <td>here for the vibes 🛼✨þ&amp; as a nowandme user🕺🏻</td>\n",
       "      <td>0</td>\n",
       "    </tr>\n",
       "    <tr>\n",
       "      <th>2</th>\n",
       "      <td>5e8b3ddf492d791d4894c1c1</td>\n",
       "      <td>1</td>\n",
       "      <td>I have always been a very sensitive person so ...</td>\n",
       "      <td>relationships</td>\n",
       "      <td>0</td>\n",
       "      <td>0</td>\n",
       "      <td>0</td>\n",
       "      <td>1</td>\n",
       "      <td>1</td>\n",
       "      <td>1</td>\n",
       "      <td>0</td>\n",
       "      <td>1</td>\n",
       "      <td>1</td>\n",
       "      <td>0</td>\n",
       "      <td>here for the vibes 🛼✨þ&amp; as a nowandme user🕺🏻</td>\n",
       "      <td>0</td>\n",
       "    </tr>\n",
       "    <tr>\n",
       "      <th>3</th>\n",
       "      <td>5e8b3ddf492d791d4894c1c3</td>\n",
       "      <td>1</td>\n",
       "      <td>I’m 20 years old and thus far, my personal lif...</td>\n",
       "      <td>other</td>\n",
       "      <td>0</td>\n",
       "      <td>0</td>\n",
       "      <td>0</td>\n",
       "      <td>1</td>\n",
       "      <td>1</td>\n",
       "      <td>1</td>\n",
       "      <td>0</td>\n",
       "      <td>1</td>\n",
       "      <td>1</td>\n",
       "      <td>0</td>\n",
       "      <td>here for the vibes 🛼✨þ&amp; as a nowandme user🕺🏻</td>\n",
       "      <td>0</td>\n",
       "    </tr>\n",
       "    <tr>\n",
       "      <th>4</th>\n",
       "      <td>5e8b3ddf492d791d4894c1c5</td>\n",
       "      <td>1</td>\n",
       "      <td>Some of our professors fail to understand the ...</td>\n",
       "      <td>education</td>\n",
       "      <td>0</td>\n",
       "      <td>1</td>\n",
       "      <td>0</td>\n",
       "      <td>1</td>\n",
       "      <td>1</td>\n",
       "      <td>1</td>\n",
       "      <td>0</td>\n",
       "      <td>1</td>\n",
       "      <td>1</td>\n",
       "      <td>0</td>\n",
       "      <td>here for the vibes 🛼✨þ&amp; as a nowandme user🕺🏻</td>\n",
       "      <td>0</td>\n",
       "    </tr>\n",
       "    <tr>\n",
       "      <th>...</th>\n",
       "      <td>...</td>\n",
       "      <td>...</td>\n",
       "      <td>...</td>\n",
       "      <td>...</td>\n",
       "      <td>...</td>\n",
       "      <td>...</td>\n",
       "      <td>...</td>\n",
       "      <td>...</td>\n",
       "      <td>...</td>\n",
       "      <td>...</td>\n",
       "      <td>...</td>\n",
       "      <td>...</td>\n",
       "      <td>...</td>\n",
       "      <td>...</td>\n",
       "      <td>...</td>\n",
       "      <td>...</td>\n",
       "    </tr>\n",
       "    <tr>\n",
       "      <th>546336</th>\n",
       "      <td>621aa2b2af7766001d2efc9a</td>\n",
       "      <td>0</td>\n",
       "      <td>Love is something that stays with you. A part ...</td>\n",
       "      <td>breakup</td>\n",
       "      <td>0</td>\n",
       "      <td>1</td>\n",
       "      <td>0</td>\n",
       "      <td>0</td>\n",
       "      <td>0</td>\n",
       "      <td>0</td>\n",
       "      <td>0</td>\n",
       "      <td>1</td>\n",
       "      <td>0</td>\n",
       "      <td>1</td>\n",
       "      <td>0</td>\n",
       "      <td>0</td>\n",
       "    </tr>\n",
       "    <tr>\n",
       "      <th>546337</th>\n",
       "      <td>621aa305624bb6001c87439f</td>\n",
       "      <td>0</td>\n",
       "      <td>I’m there you if want to talk :)</td>\n",
       "      <td>lonely</td>\n",
       "      <td>0</td>\n",
       "      <td>1</td>\n",
       "      <td>0</td>\n",
       "      <td>0</td>\n",
       "      <td>0</td>\n",
       "      <td>0</td>\n",
       "      <td>0</td>\n",
       "      <td>1</td>\n",
       "      <td>0</td>\n",
       "      <td>1</td>\n",
       "      <td>0</td>\n",
       "      <td>0</td>\n",
       "    </tr>\n",
       "    <tr>\n",
       "      <th>546338</th>\n",
       "      <td>621aa31956f131001db69f3a</td>\n",
       "      <td>0</td>\n",
       "      <td>Awww. I would like that...</td>\n",
       "      <td>lonely</td>\n",
       "      <td>0</td>\n",
       "      <td>0</td>\n",
       "      <td>0</td>\n",
       "      <td>1</td>\n",
       "      <td>1</td>\n",
       "      <td>1</td>\n",
       "      <td>0</td>\n",
       "      <td>1</td>\n",
       "      <td>0</td>\n",
       "      <td>0</td>\n",
       "      <td>I love people, and I do have separation anxiet...</td>\n",
       "      <td>1</td>\n",
       "    </tr>\n",
       "    <tr>\n",
       "      <th>546339</th>\n",
       "      <td>621aa33a56f131001db6a07a</td>\n",
       "      <td>0</td>\n",
       "      <td>Interested in Intraday, F&amp;O ??</td>\n",
       "      <td>success</td>\n",
       "      <td>0</td>\n",
       "      <td>0</td>\n",
       "      <td>0</td>\n",
       "      <td>1</td>\n",
       "      <td>1</td>\n",
       "      <td>1</td>\n",
       "      <td>0</td>\n",
       "      <td>0</td>\n",
       "      <td>1</td>\n",
       "      <td>0</td>\n",
       "      <td>Entrepreneur</td>\n",
       "      <td>0</td>\n",
       "    </tr>\n",
       "    <tr>\n",
       "      <th>546340</th>\n",
       "      <td>621aa384af7766001d2f0418</td>\n",
       "      <td>0</td>\n",
       "      <td>Can talk to you in private if you want :)</td>\n",
       "      <td>anxiety</td>\n",
       "      <td>0</td>\n",
       "      <td>0</td>\n",
       "      <td>0</td>\n",
       "      <td>0</td>\n",
       "      <td>0</td>\n",
       "      <td>0</td>\n",
       "      <td>0</td>\n",
       "      <td>1</td>\n",
       "      <td>0</td>\n",
       "      <td>1</td>\n",
       "      <td>0</td>\n",
       "      <td>0</td>\n",
       "    </tr>\n",
       "  </tbody>\n",
       "</table>\n",
       "<p>546307 rows × 16 columns</p>\n",
       "</div>"
      ],
      "text/plain": [
       "                              id  is_top_level  \\\n",
       "0       5e8b3ddf492d791d4894c1bd             1   \n",
       "1       5e8b3ddf492d791d4894c1bf             1   \n",
       "2       5e8b3ddf492d791d4894c1c1             1   \n",
       "3       5e8b3ddf492d791d4894c1c3             1   \n",
       "4       5e8b3ddf492d791d4894c1c5             1   \n",
       "...                          ...           ...   \n",
       "546336  621aa2b2af7766001d2efc9a             0   \n",
       "546337  621aa305624bb6001c87439f             0   \n",
       "546338  621aa31956f131001db69f3a             0   \n",
       "546339  621aa33a56f131001db6a07a             0   \n",
       "546340  621aa384af7766001d2f0418             0   \n",
       "\n",
       "                                                     text                tag  \\\n",
       "0       I have chronic seasonal allergies, which means...    physical-health   \n",
       "1       I was scared of dogs for most part of my life....  women-empowerment   \n",
       "2       I have always been a very sensitive person so ...      relationships   \n",
       "3       I’m 20 years old and thus far, my personal lif...              other   \n",
       "4       Some of our professors fail to understand the ...          education   \n",
       "...                                                   ...                ...   \n",
       "546336  Love is something that stays with you. A part ...            breakup   \n",
       "546337                   I’m there you if want to talk :)             lonely   \n",
       "546338                         Awww. I would like that...             lonely   \n",
       "546339                     Interested in Intraday, F&O ??            success   \n",
       "546340          Can talk to you in private if you want :)            anxiety   \n",
       "\n",
       "        is_thought_blocked  is_anon  has_trigger_warning  has_profile_pic  \\\n",
       "0                        0        0                    0                1   \n",
       "1                        1        0                    0                1   \n",
       "2                        0        0                    0                1   \n",
       "3                        0        0                    0                1   \n",
       "4                        0        1                    0                1   \n",
       "...                    ...      ...                  ...              ...   \n",
       "546336                   0        1                    0                0   \n",
       "546337                   0        1                    0                0   \n",
       "546338                   0        0                    0                1   \n",
       "546339                   0        0                    0                1   \n",
       "546340                   0        0                    0                0   \n",
       "\n",
       "        has_cover_image  has_pronouns  is_banned  has_google  has_phone  \\\n",
       "0                     1             1          0           1          1   \n",
       "1                     1             1          0           1          1   \n",
       "2                     1             1          0           1          1   \n",
       "3                     1             1          0           1          1   \n",
       "4                     1             1          0           1          1   \n",
       "...                 ...           ...        ...         ...        ...   \n",
       "546336                0             0          0           1          0   \n",
       "546337                0             0          0           1          0   \n",
       "546338                1             1          0           1          0   \n",
       "546339                1             1          0           0          1   \n",
       "546340                0             0          0           1          0   \n",
       "\n",
       "        has_apple                                                bio  \\\n",
       "0               0       here for the vibes 🛼✨þ& as a nowandme user🕺🏻   \n",
       "1               0       here for the vibes 🛼✨þ& as a nowandme user🕺🏻   \n",
       "2               0       here for the vibes 🛼✨þ& as a nowandme user🕺🏻   \n",
       "3               0       here for the vibes 🛼✨þ& as a nowandme user🕺🏻   \n",
       "4               0       here for the vibes 🛼✨þ& as a nowandme user🕺🏻   \n",
       "...           ...                                                ...   \n",
       "546336          1                                                  0   \n",
       "546337          1                                                  0   \n",
       "546338          0  I love people, and I do have separation anxiet...   \n",
       "546339          0                                       Entrepreneur   \n",
       "546340          1                                                  0   \n",
       "\n",
       "        has_location  \n",
       "0                  0  \n",
       "1                  0  \n",
       "2                  0  \n",
       "3                  0  \n",
       "4                  0  \n",
       "...              ...  \n",
       "546336             0  \n",
       "546337             0  \n",
       "546338             1  \n",
       "546339             0  \n",
       "546340             0  \n",
       "\n",
       "[546307 rows x 16 columns]"
      ]
     },
     "execution_count": 83,
     "metadata": {},
     "output_type": "execute_result"
    }
   ],
   "source": [
    "df"
   ]
  },
  {
   "cell_type": "code",
   "execution_count": 84,
   "metadata": {},
   "outputs": [],
   "source": [
    "df.to_csv(\"../thoughts.csv\", index=False)"
   ]
  },
  {
   "cell_type": "code",
   "execution_count": 86,
   "metadata": {},
   "outputs": [],
   "source": [
    "## Problem statement 1: To form clusters of similar posts"
   ]
  },
  {
   "cell_type": "code",
   "execution_count": 87,
   "metadata": {},
   "outputs": [],
   "source": [
    "## Problem Statement 2: To predict if the thought is blocked"
   ]
  },
  {
   "cell_type": "code",
   "execution_count": 88,
   "metadata": {},
   "outputs": [],
   "source": [
    "## Problem statement 3: To predict if the user is banned"
   ]
  },
  {
   "cell_type": "code",
   "execution_count": 89,
   "metadata": {},
   "outputs": [],
   "source": [
    "## Problem statement 4: To predict labels (166, granular - or do a coarse grouping)"
   ]
  },
  {
   "cell_type": "code",
   "execution_count": 91,
   "metadata": {},
   "outputs": [
    {
     "data": {
      "text/plain": [
       "367.38870208473435"
      ]
     },
     "execution_count": 91,
     "metadata": {},
     "output_type": "execute_result"
    }
   ],
   "source": [
    "546307/df.bio.nunique()"
   ]
  },
  {
   "cell_type": "code",
   "execution_count": 93,
   "metadata": {},
   "outputs": [],
   "source": [
    "## Model imports\n",
    "from sklearn.metrics import precision_recall_fscore_support"
   ]
  },
  {
   "cell_type": "code",
   "execution_count": 96,
   "metadata": {},
   "outputs": [
    {
     "name": "stdout",
     "output_type": "stream",
     "text": [
      "For banned users: (0.4252041434577994, 0.5, 0.4595787280725618, None)\n",
      "For blocked thoughts: (0.494096725833643, 0.5, 0.4970308351225045, None)\n"
     ]
    }
   ],
   "source": [
    "# majority class baseline\n",
    "maj_preds = np.array([0]*len(df))\n",
    "# for banned users\n",
    "print(f\"For banned users: {precision_recall_fscore_support(df.is_banned.values, maj_preds, average='macro')}\")\n",
    "\n",
    "# for blocked thoughts\n",
    "print(f\"For blocked thoughts: {precision_recall_fscore_support(df.is_thought_blocked.values, maj_preds, average='macro')}\")"
   ]
  },
  {
   "cell_type": "code",
   "execution_count": 97,
   "metadata": {},
   "outputs": [],
   "source": [
    "# purely categorical classification\n",
    "from sklearn.ensemble import RandomForestClassifier as RFClassifier\n",
    "\n",
    "ds_train = df.sample(frac=0.85)\n",
    "ds_test = df.drop(ds_train.index)\n",
    "\n",
    "classifier = RFClassifier()"
   ]
  },
  {
   "cell_type": "code",
   "execution_count": 117,
   "metadata": {},
   "outputs": [
    {
     "data": {
      "text/plain": [
       "RandomForestClassifier()"
      ]
     },
     "execution_count": 117,
     "metadata": {},
     "output_type": "execute_result"
    }
   ],
   "source": [
    "classifier.fit(ds_train[[\n",
    "        'is_top_level',\n",
    "        'is_anon',\n",
    "        'has_trigger_warning',\n",
    "        'has_profile_pic',\n",
    "        'has_cover_image',\n",
    "        'has_pronouns',\n",
    "#         'is_thought_blocked',\n",
    "        'has_google',\n",
    "        'has_phone',\n",
    "        'has_apple',\n",
    "        'has_location'\n",
    "    ]].values,\n",
    "    ds_train['is_thought_blocked'].values\n",
    ")"
   ]
  },
  {
   "cell_type": "code",
   "execution_count": 118,
   "metadata": {},
   "outputs": [],
   "source": [
    "blocked_preds = classifier.predict(ds_test[[\n",
    "        'is_top_level',\n",
    "        'is_anon',\n",
    "        'has_trigger_warning',\n",
    "        'has_profile_pic',\n",
    "        'has_cover_image',\n",
    "        'has_pronouns',\n",
    "#         'is_thought_blocked',\n",
    "        'has_google',\n",
    "        'has_phone',\n",
    "        'has_apple',\n",
    "        'has_location'\n",
    "    ]].values)"
   ]
  },
  {
   "cell_type": "code",
   "execution_count": 119,
   "metadata": {},
   "outputs": [
    {
     "name": "stdout",
     "output_type": "stream",
     "text": [
      "Random Forest for blocked thoughts: (0.49383122826285925, 0.4999938222030024, 0.4968934184675835, None)\n"
     ]
    }
   ],
   "source": [
    "print(f\"Random Forest for blocked thoughts: {precision_recall_fscore_support(ds_test['is_thought_blocked'].values, blocked_preds, average='macro')}\")"
   ]
  },
  {
   "cell_type": "code",
   "execution_count": 120,
   "metadata": {},
   "outputs": [
    {
     "data": {
      "application/vnd.jupyter.widget-view+json": {
       "model_id": "dd6ad6e6d213412d9bf9c726b9aa420d",
       "version_major": 2,
       "version_minor": 0
      },
      "text/plain": [
       "HBox(children=(HTML(value='Downloading'), FloatProgress(value=0.0, max=558.0), HTML(value='')))"
      ]
     },
     "metadata": {},
     "output_type": "display_data"
    },
    {
     "name": "stdout",
     "output_type": "stream",
     "text": [
      "\n"
     ]
    },
    {
     "data": {
      "application/vnd.jupyter.widget-view+json": {
       "model_id": "9a1a51fdd80e48938f3705ed6c9df0dc",
       "version_major": 2,
       "version_minor": 0
      },
      "text/plain": [
       "HBox(children=(HTML(value='Downloading'), FloatProgress(value=0.0, max=542529064.0), HTML(value='')))"
      ]
     },
     "metadata": {},
     "output_type": "display_data"
    },
    {
     "name": "stdout",
     "output_type": "stream",
     "text": [
      "\n"
     ]
    },
    {
     "name": "stderr",
     "output_type": "stream",
     "text": [
      "Some weights of the model checkpoint at vinai/bertweet-base were not used when initializing RobertaModel: ['lm_head.decoder.bias', 'lm_head.bias', 'lm_head.dense.bias', 'lm_head.layer_norm.bias', 'lm_head.layer_norm.weight', 'lm_head.decoder.weight', 'lm_head.dense.weight']\n",
      "- This IS expected if you are initializing RobertaModel from the checkpoint of a model trained on another task or with another architecture (e.g. initializing a BertForSequenceClassification model from a BertForPreTraining model).\n",
      "- This IS NOT expected if you are initializing RobertaModel from the checkpoint of a model that you expect to be exactly identical (initializing a BertForSequenceClassification model from a BertForSequenceClassification model).\n"
     ]
    },
    {
     "data": {
      "application/vnd.jupyter.widget-view+json": {
       "model_id": "95656420cd9449beba22bfe42287f652",
       "version_major": 2,
       "version_minor": 0
      },
      "text/plain": [
       "HBox(children=(HTML(value='Downloading'), FloatProgress(value=0.0, max=843438.0), HTML(value='')))"
      ]
     },
     "metadata": {},
     "output_type": "display_data"
    },
    {
     "name": "stdout",
     "output_type": "stream",
     "text": [
      "\n"
     ]
    },
    {
     "data": {
      "application/vnd.jupyter.widget-view+json": {
       "model_id": "eec79190e2614f8b845b8c7f7bb4445b",
       "version_major": 2,
       "version_minor": 0
      },
      "text/plain": [
       "HBox(children=(HTML(value='Downloading'), FloatProgress(value=0.0, max=1078931.0), HTML(value='')))"
      ]
     },
     "metadata": {},
     "output_type": "display_data"
    },
    {
     "name": "stdout",
     "output_type": "stream",
     "text": [
      "\n"
     ]
    },
    {
     "name": "stderr",
     "output_type": "stream",
     "text": [
      "emoji is not installed, thus not converting emoticons or emojis into text. Please install emoji: pip3 install emoji\n",
      "Special tokens have been added in the vocabulary, make sure the associated word embeddings are fine-tuned or trained.\n"
     ]
    }
   ],
   "source": [
    "# Encoding thoughts\n",
    "\n",
    "from transformers import AutoModel, AutoTokenizer\n",
    "\n",
    "model = AutoModel.from_pretrained(\"vinai/bertweet-base\")\n",
    "tokenizer = AutoTokenizer.from_pretrained(\"vinai/bertweet-base\")"
   ]
  },
  {
   "cell_type": "code",
   "execution_count": null,
   "metadata": {},
   "outputs": [],
   "source": [
    "embeddings = []\n",
    "def encode_text(text, tokenizer, model, device):\n",
    "    tokens = tokenizer.encode_plus(text, add_special_tokens=True)\n",
    "    embedding = model(**tokens)['pooler_output'].squeeze()\n",
    "    embeddings.append(embedding.cpu().numpy())\n",
    "np.save(\"encoding.npy\", np.array(embeddings))"
   ]
  },
  {
   "cell_type": "code",
   "execution_count": 150,
   "metadata": {},
   "outputs": [],
   "source": [
    "t = tokenizer(\"[CLS] This is a sample thought [SEP] Second sentence\", return_tensors=\"pt\", add_special_tokens=False)"
   ]
  },
  {
   "cell_type": "code",
   "execution_count": 151,
   "metadata": {},
   "outputs": [
    {
     "data": {
      "text/plain": [
       "{'input_ids': tensor([[61658,  6411,   381,   317,   126,    17,    11, 10432,   307, 61658,\n",
       "          3054,   418,   317,  3271,  5199]]), 'token_type_ids': tensor([[0, 0, 0, 0, 0, 0, 0, 0, 0, 0, 0, 0, 0, 0, 0]]), 'attention_mask': tensor([[1, 1, 1, 1, 1, 1, 1, 1, 1, 1, 1, 1, 1, 1, 1]])}"
      ]
     },
     "execution_count": 151,
     "metadata": {},
     "output_type": "execute_result"
    }
   ],
   "source": [
    "t"
   ]
  },
  {
   "cell_type": "code",
   "execution_count": 158,
   "metadata": {},
   "outputs": [
    {
     "data": {
      "image/png": "[encoded data removed]",
      "text/plain": [
       "<Figure size 432x288 with 1 Axes>"
      ]
     },
     "metadata": {
      "needs_background": "light"
     },
     "output_type": "display_data"
    }
   ],
   "source": [
    "plt.hist(df.tag.value_counts())\n",
    "plt.show()"
   ]
  },
  {
   "cell_type": "code",
   "execution_count": null,
   "metadata": {},
   "outputs": [],
   "source": [
    "print(df.tag.values.mean())\n",
    "print(df.tag.values.median())\n",
    "print(df.tag.values.std())"
   ]
  },
  {
   "cell_type": "code",
   "execution_count": null,
   "metadata": {},
   "outputs": [],
   "source": [
    "print(df.tag.quantile(0.1))\n",
    "print(df.tag.quantile(0.9))"
   ]
  },
  {
   "cell_type": "code",
   "execution_count": 166,
   "metadata": {},
   "outputs": [
    {
     "data": {
      "text/plain": [
       "0    480538\n",
       "1     65769\n",
       "Name: is_top_level, dtype: int64"
      ]
     },
     "execution_count": 166,
     "metadata": {},
     "output_type": "execute_result"
    }
   ],
   "source": [
    "df.is_top_level.value_counts()"
   ]
  },
  {
   "cell_type": "code",
   "execution_count": 167,
   "metadata": {},
   "outputs": [
    {
     "data": {
      "text/html": [
       "<div>\n",
       "<style scoped>\n",
       "    .dataframe tbody tr th:only-of-type {\n",
       "        vertical-align: middle;\n",
       "    }\n",
       "\n",
       "    .dataframe tbody tr th {\n",
       "        vertical-align: top;\n",
       "    }\n",
       "\n",
       "    .dataframe thead th {\n",
       "        text-align: right;\n",
       "    }\n",
       "</style>\n",
       "<table border=\"1\" class=\"dataframe\">\n",
       "  <thead>\n",
       "    <tr style=\"text-align: right;\">\n",
       "      <th></th>\n",
       "      <th>id</th>\n",
       "      <th>is_top_level</th>\n",
       "      <th>text</th>\n",
       "      <th>tag</th>\n",
       "      <th>is_thought_blocked</th>\n",
       "      <th>is_anon</th>\n",
       "      <th>has_trigger_warning</th>\n",
       "      <th>has_profile_pic</th>\n",
       "      <th>has_cover_image</th>\n",
       "      <th>has_pronouns</th>\n",
       "      <th>is_banned</th>\n",
       "      <th>has_google</th>\n",
       "      <th>has_phone</th>\n",
       "      <th>has_apple</th>\n",
       "      <th>bio</th>\n",
       "      <th>has_location</th>\n",
       "    </tr>\n",
       "  </thead>\n",
       "  <tbody>\n",
       "    <tr>\n",
       "      <th>0</th>\n",
       "      <td>5e8b3ddf492d791d4894c1bd</td>\n",
       "      <td>1</td>\n",
       "      <td>I have chronic seasonal allergies, which means...</td>\n",
       "      <td>physical-health</td>\n",
       "      <td>0</td>\n",
       "      <td>0</td>\n",
       "      <td>0</td>\n",
       "      <td>1</td>\n",
       "      <td>1</td>\n",
       "      <td>1</td>\n",
       "      <td>0</td>\n",
       "      <td>1</td>\n",
       "      <td>1</td>\n",
       "      <td>0</td>\n",
       "      <td>here for the vibes 🛼✨þ&amp; as a nowandme user🕺🏻</td>\n",
       "      <td>0</td>\n",
       "    </tr>\n",
       "    <tr>\n",
       "      <th>1</th>\n",
       "      <td>5e8b3ddf492d791d4894c1bf</td>\n",
       "      <td>1</td>\n",
       "      <td>I was scared of dogs for most part of my life....</td>\n",
       "      <td>women-empowerment</td>\n",
       "      <td>1</td>\n",
       "      <td>0</td>\n",
       "      <td>0</td>\n",
       "      <td>1</td>\n",
       "      <td>1</td>\n",
       "      <td>1</td>\n",
       "      <td>0</td>\n",
       "      <td>1</td>\n",
       "      <td>1</td>\n",
       "      <td>0</td>\n",
       "      <td>here for the vibes 🛼✨þ&amp; as a nowandme user🕺🏻</td>\n",
       "      <td>0</td>\n",
       "    </tr>\n",
       "    <tr>\n",
       "      <th>2</th>\n",
       "      <td>5e8b3ddf492d791d4894c1c1</td>\n",
       "      <td>1</td>\n",
       "      <td>I have always been a very sensitive person so ...</td>\n",
       "      <td>relationships</td>\n",
       "      <td>0</td>\n",
       "      <td>0</td>\n",
       "      <td>0</td>\n",
       "      <td>1</td>\n",
       "      <td>1</td>\n",
       "      <td>1</td>\n",
       "      <td>0</td>\n",
       "      <td>1</td>\n",
       "      <td>1</td>\n",
       "      <td>0</td>\n",
       "      <td>here for the vibes 🛼✨þ&amp; as a nowandme user🕺🏻</td>\n",
       "      <td>0</td>\n",
       "    </tr>\n",
       "    <tr>\n",
       "      <th>3</th>\n",
       "      <td>5e8b3ddf492d791d4894c1c3</td>\n",
       "      <td>1</td>\n",
       "      <td>I’m 20 years old and thus far, my personal lif...</td>\n",
       "      <td>other</td>\n",
       "      <td>0</td>\n",
       "      <td>0</td>\n",
       "      <td>0</td>\n",
       "      <td>1</td>\n",
       "      <td>1</td>\n",
       "      <td>1</td>\n",
       "      <td>0</td>\n",
       "      <td>1</td>\n",
       "      <td>1</td>\n",
       "      <td>0</td>\n",
       "      <td>here for the vibes 🛼✨þ&amp; as a nowandme user🕺🏻</td>\n",
       "      <td>0</td>\n",
       "    </tr>\n",
       "    <tr>\n",
       "      <th>4</th>\n",
       "      <td>5e8b3ddf492d791d4894c1c5</td>\n",
       "      <td>1</td>\n",
       "      <td>Some of our professors fail to understand the ...</td>\n",
       "      <td>education</td>\n",
       "      <td>0</td>\n",
       "      <td>1</td>\n",
       "      <td>0</td>\n",
       "      <td>1</td>\n",
       "      <td>1</td>\n",
       "      <td>1</td>\n",
       "      <td>0</td>\n",
       "      <td>1</td>\n",
       "      <td>1</td>\n",
       "      <td>0</td>\n",
       "      <td>here for the vibes 🛼✨þ&amp; as a nowandme user🕺🏻</td>\n",
       "      <td>0</td>\n",
       "    </tr>\n",
       "    <tr>\n",
       "      <th>...</th>\n",
       "      <td>...</td>\n",
       "      <td>...</td>\n",
       "      <td>...</td>\n",
       "      <td>...</td>\n",
       "      <td>...</td>\n",
       "      <td>...</td>\n",
       "      <td>...</td>\n",
       "      <td>...</td>\n",
       "      <td>...</td>\n",
       "      <td>...</td>\n",
       "      <td>...</td>\n",
       "      <td>...</td>\n",
       "      <td>...</td>\n",
       "      <td>...</td>\n",
       "      <td>...</td>\n",
       "      <td>...</td>\n",
       "    </tr>\n",
       "    <tr>\n",
       "      <th>546336</th>\n",
       "      <td>621aa2b2af7766001d2efc9a</td>\n",
       "      <td>0</td>\n",
       "      <td>Love is something that stays with you. A part ...</td>\n",
       "      <td>breakup</td>\n",
       "      <td>0</td>\n",
       "      <td>1</td>\n",
       "      <td>0</td>\n",
       "      <td>0</td>\n",
       "      <td>0</td>\n",
       "      <td>0</td>\n",
       "      <td>0</td>\n",
       "      <td>1</td>\n",
       "      <td>0</td>\n",
       "      <td>1</td>\n",
       "      <td>0</td>\n",
       "      <td>0</td>\n",
       "    </tr>\n",
       "    <tr>\n",
       "      <th>546337</th>\n",
       "      <td>621aa305624bb6001c87439f</td>\n",
       "      <td>0</td>\n",
       "      <td>I’m there you if want to talk :)</td>\n",
       "      <td>lonely</td>\n",
       "      <td>0</td>\n",
       "      <td>1</td>\n",
       "      <td>0</td>\n",
       "      <td>0</td>\n",
       "      <td>0</td>\n",
       "      <td>0</td>\n",
       "      <td>0</td>\n",
       "      <td>1</td>\n",
       "      <td>0</td>\n",
       "      <td>1</td>\n",
       "      <td>0</td>\n",
       "      <td>0</td>\n",
       "    </tr>\n",
       "    <tr>\n",
       "      <th>546338</th>\n",
       "      <td>621aa31956f131001db69f3a</td>\n",
       "      <td>0</td>\n",
       "      <td>Awww. I would like that...</td>\n",
       "      <td>lonely</td>\n",
       "      <td>0</td>\n",
       "      <td>0</td>\n",
       "      <td>0</td>\n",
       "      <td>1</td>\n",
       "      <td>1</td>\n",
       "      <td>1</td>\n",
       "      <td>0</td>\n",
       "      <td>1</td>\n",
       "      <td>0</td>\n",
       "      <td>0</td>\n",
       "      <td>I love people, and I do have separation anxiet...</td>\n",
       "      <td>1</td>\n",
       "    </tr>\n",
       "    <tr>\n",
       "      <th>546339</th>\n",
       "      <td>621aa33a56f131001db6a07a</td>\n",
       "      <td>0</td>\n",
       "      <td>Interested in Intraday, F&amp;O ??</td>\n",
       "      <td>success</td>\n",
       "      <td>0</td>\n",
       "      <td>0</td>\n",
       "      <td>0</td>\n",
       "      <td>1</td>\n",
       "      <td>1</td>\n",
       "      <td>1</td>\n",
       "      <td>0</td>\n",
       "      <td>0</td>\n",
       "      <td>1</td>\n",
       "      <td>0</td>\n",
       "      <td>Entrepreneur</td>\n",
       "      <td>0</td>\n",
       "    </tr>\n",
       "    <tr>\n",
       "      <th>546340</th>\n",
       "      <td>621aa384af7766001d2f0418</td>\n",
       "      <td>0</td>\n",
       "      <td>Can talk to you in private if you want :)</td>\n",
       "      <td>anxiety</td>\n",
       "      <td>0</td>\n",
       "      <td>0</td>\n",
       "      <td>0</td>\n",
       "      <td>0</td>\n",
       "      <td>0</td>\n",
       "      <td>0</td>\n",
       "      <td>0</td>\n",
       "      <td>1</td>\n",
       "      <td>0</td>\n",
       "      <td>1</td>\n",
       "      <td>0</td>\n",
       "      <td>0</td>\n",
       "    </tr>\n",
       "  </tbody>\n",
       "</table>\n",
       "<p>546307 rows × 16 columns</p>\n",
       "</div>"
      ],
      "text/plain": [
       "                              id  is_top_level  \\\n",
       "0       5e8b3ddf492d791d4894c1bd             1   \n",
       "1       5e8b3ddf492d791d4894c1bf             1   \n",
       "2       5e8b3ddf492d791d4894c1c1             1   \n",
       "3       5e8b3ddf492d791d4894c1c3             1   \n",
       "4       5e8b3ddf492d791d4894c1c5             1   \n",
       "...                          ...           ...   \n",
       "546336  621aa2b2af7766001d2efc9a             0   \n",
       "546337  621aa305624bb6001c87439f             0   \n",
       "546338  621aa31956f131001db69f3a             0   \n",
       "546339  621aa33a56f131001db6a07a             0   \n",
       "546340  621aa384af7766001d2f0418             0   \n",
       "\n",
       "                                                     text                tag  \\\n",
       "0       I have chronic seasonal allergies, which means...    physical-health   \n",
       "1       I was scared of dogs for most part of my life....  women-empowerment   \n",
       "2       I have always been a very sensitive person so ...      relationships   \n",
       "3       I’m 20 years old and thus far, my personal lif...              other   \n",
       "4       Some of our professors fail to understand the ...          education   \n",
       "...                                                   ...                ...   \n",
       "546336  Love is something that stays with you. A part ...            breakup   \n",
       "546337                   I’m there you if want to talk :)             lonely   \n",
       "546338                         Awww. I would like that...             lonely   \n",
       "546339                     Interested in Intraday, F&O ??            success   \n",
       "546340          Can talk to you in private if you want :)            anxiety   \n",
       "\n",
       "        is_thought_blocked  is_anon  has_trigger_warning  has_profile_pic  \\\n",
       "0                        0        0                    0                1   \n",
       "1                        1        0                    0                1   \n",
       "2                        0        0                    0                1   \n",
       "3                        0        0                    0                1   \n",
       "4                        0        1                    0                1   \n",
       "...                    ...      ...                  ...              ...   \n",
       "546336                   0        1                    0                0   \n",
       "546337                   0        1                    0                0   \n",
       "546338                   0        0                    0                1   \n",
       "546339                   0        0                    0                1   \n",
       "546340                   0        0                    0                0   \n",
       "\n",
       "        has_cover_image  has_pronouns  is_banned  has_google  has_phone  \\\n",
       "0                     1             1          0           1          1   \n",
       "1                     1             1          0           1          1   \n",
       "2                     1             1          0           1          1   \n",
       "3                     1             1          0           1          1   \n",
       "4                     1             1          0           1          1   \n",
       "...                 ...           ...        ...         ...        ...   \n",
       "546336                0             0          0           1          0   \n",
       "546337                0             0          0           1          0   \n",
       "546338                1             1          0           1          0   \n",
       "546339                1             1          0           0          1   \n",
       "546340                0             0          0           1          0   \n",
       "\n",
       "        has_apple                                                bio  \\\n",
       "0               0       here for the vibes 🛼✨þ& as a nowandme user🕺🏻   \n",
       "1               0       here for the vibes 🛼✨þ& as a nowandme user🕺🏻   \n",
       "2               0       here for the vibes 🛼✨þ& as a nowandme user🕺🏻   \n",
       "3               0       here for the vibes 🛼✨þ& as a nowandme user🕺🏻   \n",
       "4               0       here for the vibes 🛼✨þ& as a nowandme user🕺🏻   \n",
       "...           ...                                                ...   \n",
       "546336          1                                                  0   \n",
       "546337          1                                                  0   \n",
       "546338          0  I love people, and I do have separation anxiet...   \n",
       "546339          0                                       Entrepreneur   \n",
       "546340          1                                                  0   \n",
       "\n",
       "        has_location  \n",
       "0                  0  \n",
       "1                  0  \n",
       "2                  0  \n",
       "3                  0  \n",
       "4                  0  \n",
       "...              ...  \n",
       "546336             0  \n",
       "546337             0  \n",
       "546338             1  \n",
       "546339             0  \n",
       "546340             0  \n",
       "\n",
       "[546307 rows x 16 columns]"
      ]
     },
     "execution_count": 167,
     "metadata": {},
     "output_type": "execute_result"
    }
   ],
   "source": [
    "df"
   ]
  },
  {
   "cell_type": "code",
   "execution_count": 169,
   "metadata": {},
   "outputs": [],
   "source": [
    "df.to_csv(\"thoughts.tsv\", sep=\"\\t\")"
   ]
  },
  {
   "cell_type": "code",
   "execution_count": null,
   "metadata": {},
   "outputs": [],
   "source": [
    "# birch clustering\n",
    "from numpy import unique\n",
    "from numpy import where\n",
    "from sklearn.datasets import make_classification\n",
    "from sklearn.cluster import Birch\n",
    "from matplotlib import pyplot\n",
    "\n",
    "# define dataset\n",
    "X, _ = make_classification(n_samples=500000, n_features=780, n_informative=10, n_redundant=0, n_clusters_per_class=1, random_state=4)\n",
    "# define the model\n",
    "model = Birch(threshold=0.01, n_clusters=2)\n",
    "# fit the model\n",
    "model.fit(X)\n",
    "# assign a cluster to each example\n",
    "yhat = model.predict(X)\n",
    "# retrieve unique clusters\n",
    "clusters = unique(yhat)\n",
    "# create scatter plot for samples from each cluster\n",
    "for cluster in clusters:\n",
    "\t# get row indexes for samples with this cluster\n",
    "\trow_ix = where(yhat == cluster)\n",
    "\t# create scatter of these samples\n",
    "\tpyplot.scatter(X[row_ix, 0], X[row_ix, 1])\n",
    "# show the plot\n",
    "pyplot.show()"
   ]
  }
 ],
 "metadata": {
  "kernelspec": {
   "display_name": "Python 3",
   "language": "python",
   "name": "python3"
  },
  "language_info": {
   "codemirror_mode": {
    "name": "ipython",
    "version": 3
   },
   "file_extension": ".py",
   "mimetype": "text/x-python",
   "name": "python",
   "nbconvert_exporter": "python",
   "pygments_lexer": "ipython3",
   "version": "3.8.5"
  }
 },
 "nbformat": 4,
 "nbformat_minor": 4
}
